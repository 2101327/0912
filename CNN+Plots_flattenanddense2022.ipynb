{
  "nbformat": 4,
  "nbformat_minor": 0,
  "metadata": {
    "colab": {
      "provenance": [],
      "collapsed_sections": [],
      "authorship_tag": "ABX9TyNeGOWUp4gDl9Rh30tIHPZM",
      "include_colab_link": true
    },
    "kernelspec": {
      "name": "python3",
      "display_name": "Python 3"
    },
    "language_info": {
      "name": "python"
    }
  },
  "cells": [
    {
      "cell_type": "markdown",
      "metadata": {
        "id": "view-in-github",
        "colab_type": "text"
      },
      "source": [
        "<a href=\"https://colab.research.google.com/github/2101327/0912/blob/main/CNN%2BPlots_flattenanddense2022.ipynb\" target=\"_parent\"><img src=\"https://colab.research.google.com/assets/colab-badge.svg\" alt=\"Open In Colab\"/></a>"
      ]
    },
    {
      "cell_type": "code",
      "execution_count": 2,
      "metadata": {
        "id": "MlNx-B18S5nI",
        "colab": {
          "base_uri": "https://localhost:8080/",
          "height": 427
        },
        "outputId": "c802ed70-b20a-4767-d5b9-f0b38133e177"
      },
      "outputs": [
        {
          "output_type": "execute_result",
          "data": {
            "text/plain": [
              "<IPython.core.display.SVG object>"
            ],
            "image/svg+xml": "<svg height=\"304pt\" viewBox=\"0.00 0.00 353.50 304.00\" width=\"354pt\" xmlns=\"http://www.w3.org/2000/svg\" xmlns:xlink=\"http://www.w3.org/1999/xlink\">\n<g class=\"graph\" id=\"graph0\" transform=\"scale(1 1) rotate(0) translate(4 300)\">\n<title>G</title>\n<polygon fill=\"#ffffff\" points=\"-4,4 -4,-300 349.5,-300 349.5,4 -4,4\" stroke=\"transparent\"/>\n<!-- dpi -->\n<g class=\"node\" id=\"node1\">\n<title>dpi</title>\n<ellipse cx=\"27\" cy=\"-272.5\" fill=\"none\" rx=\"27\" ry=\"18\" stroke=\"#000000\"/>\n<text fill=\"#000000\" font-family=\"Times,serif\" font-size=\"14.00\" text-anchor=\"middle\" x=\"27\" y=\"-268.8\">dpi</text>\n</g>\n<!-- 139982007244176 -->\n<g class=\"node\" id=\"node2\">\n<title>139982007244176</title>\n<polygon fill=\"none\" points=\"72.5,-249.5 72.5,-295.5 345.5,-295.5 345.5,-249.5 72.5,-249.5\" stroke=\"#000000\"/>\n<text fill=\"#000000\" font-family=\"Times,serif\" font-size=\"14.00\" text-anchor=\"middle\" x=\"124.5\" y=\"-280.3\">Conv2D_input</text>\n<polyline fill=\"none\" points=\"72.5,-272.5 176.5,-272.5 \" stroke=\"#000000\"/>\n<text fill=\"#000000\" font-family=\"Times,serif\" font-size=\"14.00\" text-anchor=\"middle\" x=\"124.5\" y=\"-257.3\">InputLayer</text>\n<polyline fill=\"none\" points=\"176.5,-249.5 176.5,-295.5 \" stroke=\"#000000\"/>\n<text fill=\"#000000\" font-family=\"Times,serif\" font-size=\"14.00\" text-anchor=\"middle\" x=\"205.5\" y=\"-280.3\">input:</text>\n<polyline fill=\"none\" points=\"176.5,-272.5 234.5,-272.5 \" stroke=\"#000000\"/>\n<text fill=\"#000000\" font-family=\"Times,serif\" font-size=\"14.00\" text-anchor=\"middle\" x=\"205.5\" y=\"-257.3\">output:</text>\n<polyline fill=\"none\" points=\"234.5,-249.5 234.5,-295.5 \" stroke=\"#000000\"/>\n<text fill=\"#000000\" font-family=\"Times,serif\" font-size=\"14.00\" text-anchor=\"middle\" x=\"290\" y=\"-280.3\">[(None, 6, 6, 1)]</text>\n<polyline fill=\"none\" points=\"234.5,-272.5 345.5,-272.5 \" stroke=\"#000000\"/>\n<text fill=\"#000000\" font-family=\"Times,serif\" font-size=\"14.00\" text-anchor=\"middle\" x=\"290\" y=\"-257.3\">[(None, 6, 6, 1)]</text>\n</g>\n<!-- 139980076311440 -->\n<g class=\"node\" id=\"node3\">\n<title>139980076311440</title>\n<polygon fill=\"none\" points=\"95.5,-166.5 95.5,-212.5 322.5,-212.5 322.5,-166.5 95.5,-166.5\" stroke=\"#000000\"/>\n<text fill=\"#000000\" font-family=\"Times,serif\" font-size=\"14.00\" text-anchor=\"middle\" x=\"129\" y=\"-197.3\">Conv2D</text>\n<polyline fill=\"none\" points=\"95.5,-189.5 162.5,-189.5 \" stroke=\"#000000\"/>\n<text fill=\"#000000\" font-family=\"Times,serif\" font-size=\"14.00\" text-anchor=\"middle\" x=\"129\" y=\"-174.3\">Conv2D</text>\n<polyline fill=\"none\" points=\"162.5,-166.5 162.5,-212.5 \" stroke=\"#000000\"/>\n<text fill=\"#000000\" font-family=\"Times,serif\" font-size=\"14.00\" text-anchor=\"middle\" x=\"191.5\" y=\"-197.3\">input:</text>\n<polyline fill=\"none\" points=\"162.5,-189.5 220.5,-189.5 \" stroke=\"#000000\"/>\n<text fill=\"#000000\" font-family=\"Times,serif\" font-size=\"14.00\" text-anchor=\"middle\" x=\"191.5\" y=\"-174.3\">output:</text>\n<polyline fill=\"none\" points=\"220.5,-166.5 220.5,-212.5 \" stroke=\"#000000\"/>\n<text fill=\"#000000\" font-family=\"Times,serif\" font-size=\"14.00\" text-anchor=\"middle\" x=\"271.5\" y=\"-197.3\">(None, 6, 6, 1)</text>\n<polyline fill=\"none\" points=\"220.5,-189.5 322.5,-189.5 \" stroke=\"#000000\"/>\n<text fill=\"#000000\" font-family=\"Times,serif\" font-size=\"14.00\" text-anchor=\"middle\" x=\"271.5\" y=\"-174.3\">(None, 6, 6, 3)</text>\n</g>\n<!-- 139982007244176&#45;&gt;139980076311440 -->\n<g class=\"edge\" id=\"edge1\">\n<title>139982007244176-&gt;139980076311440</title>\n<path d=\"M209,-249.3799C209,-241.1745 209,-231.7679 209,-222.8786\" fill=\"none\" stroke=\"#000000\"/>\n<polygon fill=\"#000000\" points=\"212.5001,-222.784 209,-212.784 205.5001,-222.784 212.5001,-222.784\" stroke=\"#000000\"/>\n</g>\n<!-- 139982007335760 -->\n<g class=\"node\" id=\"node4\">\n<title>139982007335760</title>\n<polygon fill=\"none\" points=\"93.5,-83.5 93.5,-129.5 324.5,-129.5 324.5,-83.5 93.5,-83.5\" stroke=\"#000000\"/>\n<text fill=\"#000000\" font-family=\"Times,serif\" font-size=\"14.00\" text-anchor=\"middle\" x=\"129\" y=\"-114.3\">Flatten_1</text>\n<polyline fill=\"none\" points=\"93.5,-106.5 164.5,-106.5 \" stroke=\"#000000\"/>\n<text fill=\"#000000\" font-family=\"Times,serif\" font-size=\"14.00\" text-anchor=\"middle\" x=\"129\" y=\"-91.3\">Flatten</text>\n<polyline fill=\"none\" points=\"164.5,-83.5 164.5,-129.5 \" stroke=\"#000000\"/>\n<text fill=\"#000000\" font-family=\"Times,serif\" font-size=\"14.00\" text-anchor=\"middle\" x=\"193.5\" y=\"-114.3\">input:</text>\n<polyline fill=\"none\" points=\"164.5,-106.5 222.5,-106.5 \" stroke=\"#000000\"/>\n<text fill=\"#000000\" font-family=\"Times,serif\" font-size=\"14.00\" text-anchor=\"middle\" x=\"193.5\" y=\"-91.3\">output:</text>\n<polyline fill=\"none\" points=\"222.5,-83.5 222.5,-129.5 \" stroke=\"#000000\"/>\n<text fill=\"#000000\" font-family=\"Times,serif\" font-size=\"14.00\" text-anchor=\"middle\" x=\"273.5\" y=\"-114.3\">(None, 6, 6, 3)</text>\n<polyline fill=\"none\" points=\"222.5,-106.5 324.5,-106.5 \" stroke=\"#000000\"/>\n<text fill=\"#000000\" font-family=\"Times,serif\" font-size=\"14.00\" text-anchor=\"middle\" x=\"273.5\" y=\"-91.3\">(None, 108)</text>\n</g>\n<!-- 139980076311440&#45;&gt;139982007335760 -->\n<g class=\"edge\" id=\"edge2\">\n<title>139980076311440-&gt;139982007335760</title>\n<path d=\"M209,-166.3799C209,-158.1745 209,-148.7679 209,-139.8786\" fill=\"none\" stroke=\"#000000\"/>\n<polygon fill=\"#000000\" points=\"212.5001,-139.784 209,-129.784 205.5001,-139.784 212.5001,-139.784\" stroke=\"#000000\"/>\n</g>\n<!-- 139980148778128 -->\n<g class=\"node\" id=\"node5\">\n<title>139980148778128</title>\n<polygon fill=\"none\" points=\"103,-.5 103,-46.5 315,-46.5 315,-.5 103,-.5\" stroke=\"#000000\"/>\n<text fill=\"#000000\" font-family=\"Times,serif\" font-size=\"14.00\" text-anchor=\"middle\" x=\"136.5\" y=\"-31.3\">Dense_1</text>\n<polyline fill=\"none\" points=\"103,-23.5 170,-23.5 \" stroke=\"#000000\"/>\n<text fill=\"#000000\" font-family=\"Times,serif\" font-size=\"14.00\" text-anchor=\"middle\" x=\"136.5\" y=\"-8.3\">Dense</text>\n<polyline fill=\"none\" points=\"170,-.5 170,-46.5 \" stroke=\"#000000\"/>\n<text fill=\"#000000\" font-family=\"Times,serif\" font-size=\"14.00\" text-anchor=\"middle\" x=\"199\" y=\"-31.3\">input:</text>\n<polyline fill=\"none\" points=\"170,-23.5 228,-23.5 \" stroke=\"#000000\"/>\n<text fill=\"#000000\" font-family=\"Times,serif\" font-size=\"14.00\" text-anchor=\"middle\" x=\"199\" y=\"-8.3\">output:</text>\n<polyline fill=\"none\" points=\"228,-.5 228,-46.5 \" stroke=\"#000000\"/>\n<text fill=\"#000000\" font-family=\"Times,serif\" font-size=\"14.00\" text-anchor=\"middle\" x=\"271.5\" y=\"-31.3\">(None, 108)</text>\n<polyline fill=\"none\" points=\"228,-23.5 315,-23.5 \" stroke=\"#000000\"/>\n<text fill=\"#000000\" font-family=\"Times,serif\" font-size=\"14.00\" text-anchor=\"middle\" x=\"271.5\" y=\"-8.3\">(None, 10)</text>\n</g>\n<!-- 139982007335760&#45;&gt;139980148778128 -->\n<g class=\"edge\" id=\"edge3\">\n<title>139982007335760-&gt;139980148778128</title>\n<path d=\"M209,-83.3799C209,-75.1745 209,-65.7679 209,-56.8786\" fill=\"none\" stroke=\"#000000\"/>\n<polygon fill=\"#000000\" points=\"212.5001,-56.784 209,-46.784 205.5001,-56.784 212.5001,-56.784\" stroke=\"#000000\"/>\n</g>\n</g>\n</svg>"
          },
          "metadata": {},
          "execution_count": 2
        }
      ],
      "source": [
        "from keras.models import Sequential,Model\n",
        "from keras.layers import Conv2D,Flatten,Dense\n",
        "from IPython.display import SVG\n",
        "from keras.utils.vis_utils import model_to_dot\n",
        "model=Sequential()\n",
        "model.add(Conv2D(filters=3,kernel_size=(3,3),input_shape=(6,6,1),padding='same',name='Conv2D'))\n",
        "model.add(Flatten(name='Flatten_1'))\n",
        "model.add(Dense(units=10,activation='softmax',name='Dense_1'))\n",
        "SVG(model_to_dot(model,show_shapes=(1>0),dpi=None).create(prog='dot',format='svg'))"
      ]
    },
    {
      "cell_type": "code",
      "source": [],
      "metadata": {
        "id": "ZahvRl2gDPiz"
      },
      "execution_count": null,
      "outputs": []
    }
  ]
}