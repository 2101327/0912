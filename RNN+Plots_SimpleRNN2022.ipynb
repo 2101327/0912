{
  "nbformat": 4,
  "nbformat_minor": 0,
  "metadata": {
    "colab": {
      "provenance": [],
      "authorship_tag": "ABX9TyOBin+2md2qzP4EP1FQ1Lju",
      "include_colab_link": true
    },
    "kernelspec": {
      "name": "python3",
      "display_name": "Python 3"
    },
    "language_info": {
      "name": "python"
    }
  },
  "cells": [
    {
      "cell_type": "markdown",
      "metadata": {
        "id": "view-in-github",
        "colab_type": "text"
      },
      "source": [
        "<a href=\"https://colab.research.google.com/github/2101327/0912/blob/main/RNN%2BPlots_SimpleRNN2022.ipynb\" target=\"_parent\"><img src=\"https://colab.research.google.com/assets/colab-badge.svg\" alt=\"Open In Colab\"/></a>"
      ]
    },
    {
      "cell_type": "code",
      "execution_count": 1,
      "metadata": {
        "id": "i9M36MNbdVL6",
        "colab": {
          "base_uri": "https://localhost:8080/",
          "height": 205
        },
        "outputId": "6d275768-e58d-423f-f001-4dd8733d05bf"
      },
      "outputs": [
        {
          "output_type": "execute_result",
          "data": {
            "text/plain": [
              "<IPython.core.display.SVG object>"
            ],
            "image/svg+xml": "<svg xmlns=\"http://www.w3.org/2000/svg\" xmlns:xlink=\"http://www.w3.org/1999/xlink\" width=\"329pt\" height=\"138pt\" viewBox=\"0.00 0.00 329.00 138.00\">\n<g id=\"graph0\" class=\"graph\" transform=\"scale(1 1) rotate(0) translate(4 134)\">\n<title>G</title>\n<polygon fill=\"#ffffff\" stroke=\"transparent\" points=\"-4,4 -4,-134 325,-134 325,4 -4,4\"/>\n<!-- dpi -->\n<g id=\"node1\" class=\"node\">\n<title>dpi</title>\n<ellipse fill=\"none\" stroke=\"#000000\" cx=\"27\" cy=\"-106.5\" rx=\"27\" ry=\"18\"/>\n<text text-anchor=\"middle\" x=\"27\" y=\"-102.8\" font-family=\"Times,serif\" font-size=\"14.00\" fill=\"#000000\">dpi</text>\n</g>\n<!-- 140633778476080 -->\n<g id=\"node2\" class=\"node\">\n<title>140633778476080</title>\n<polygon fill=\"none\" stroke=\"#000000\" points=\"72,-83.5 72,-129.5 314,-129.5 314,-83.5 72,-83.5\"/>\n<text text-anchor=\"middle\" x=\"112\" y=\"-114.3\" font-family=\"Times,serif\" font-size=\"14.00\" fill=\"#000000\">Input</text>\n<polyline fill=\"none\" stroke=\"#000000\" points=\"72,-106.5 152,-106.5 \"/>\n<text text-anchor=\"middle\" x=\"112\" y=\"-91.3\" font-family=\"Times,serif\" font-size=\"14.00\" fill=\"#000000\">InputLayer</text>\n<polyline fill=\"none\" stroke=\"#000000\" points=\"152,-83.5 152,-129.5 \"/>\n<text text-anchor=\"middle\" x=\"181\" y=\"-114.3\" font-family=\"Times,serif\" font-size=\"14.00\" fill=\"#000000\">input:</text>\n<polyline fill=\"none\" stroke=\"#000000\" points=\"152,-106.5 210,-106.5 \"/>\n<text text-anchor=\"middle\" x=\"181\" y=\"-91.3\" font-family=\"Times,serif\" font-size=\"14.00\" fill=\"#000000\">output:</text>\n<polyline fill=\"none\" stroke=\"#000000\" points=\"210,-83.5 210,-129.5 \"/>\n<text text-anchor=\"middle\" x=\"262\" y=\"-114.3\" font-family=\"Times,serif\" font-size=\"14.00\" fill=\"#000000\">[(None, 5, 15)]</text>\n<polyline fill=\"none\" stroke=\"#000000\" points=\"210,-106.5 314,-106.5 \"/>\n<text text-anchor=\"middle\" x=\"262\" y=\"-91.3\" font-family=\"Times,serif\" font-size=\"14.00\" fill=\"#000000\">[(None, 5, 15)]</text>\n</g>\n<!-- 140633778475984 -->\n<g id=\"node3\" class=\"node\">\n<title>140633778475984</title>\n<polygon fill=\"none\" stroke=\"#000000\" points=\"65,-.5 65,-46.5 321,-46.5 321,-.5 65,-.5\"/>\n<text text-anchor=\"middle\" x=\"116.5\" y=\"-31.3\" font-family=\"Times,serif\" font-size=\"14.00\" fill=\"#000000\">SimpleRNN_1</text>\n<polyline fill=\"none\" stroke=\"#000000\" points=\"65,-23.5 168,-23.5 \"/>\n<text text-anchor=\"middle\" x=\"116.5\" y=\"-8.3\" font-family=\"Times,serif\" font-size=\"14.00\" fill=\"#000000\">SimpleRNN</text>\n<polyline fill=\"none\" stroke=\"#000000\" points=\"168,-.5 168,-46.5 \"/>\n<text text-anchor=\"middle\" x=\"197\" y=\"-31.3\" font-family=\"Times,serif\" font-size=\"14.00\" fill=\"#000000\">input:</text>\n<polyline fill=\"none\" stroke=\"#000000\" points=\"168,-23.5 226,-23.5 \"/>\n<text text-anchor=\"middle\" x=\"197\" y=\"-8.3\" font-family=\"Times,serif\" font-size=\"14.00\" fill=\"#000000\">output:</text>\n<polyline fill=\"none\" stroke=\"#000000\" points=\"226,-.5 226,-46.5 \"/>\n<text text-anchor=\"middle\" x=\"273.5\" y=\"-31.3\" font-family=\"Times,serif\" font-size=\"14.00\" fill=\"#000000\">(None, 5, 15)</text>\n<polyline fill=\"none\" stroke=\"#000000\" points=\"226,-23.5 321,-23.5 \"/>\n<text text-anchor=\"middle\" x=\"273.5\" y=\"-8.3\" font-family=\"Times,serif\" font-size=\"14.00\" fill=\"#000000\">(None, 10)</text>\n</g>\n<!-- 140633778476080&#45;&gt;140633778475984 -->\n<g id=\"edge1\" class=\"edge\">\n<title>140633778476080-&gt;140633778475984</title>\n<path fill=\"none\" stroke=\"#000000\" d=\"M193,-83.3799C193,-75.1745 193,-65.7679 193,-56.8786\"/>\n<polygon fill=\"#000000\" stroke=\"#000000\" points=\"196.5001,-56.784 193,-46.784 189.5001,-56.784 196.5001,-56.784\"/>\n</g>\n</g>\n</svg>"
          },
          "metadata": {},
          "execution_count": 1
        }
      ],
      "source": [
        "from keras.models import Model\n",
        "from keras.layers import Input,SimpleRNN\n",
        "from IPython.display import SVG\n",
        "from keras.utils.vis_utils import model_to_dot\n",
        "units=10\n",
        "time_steps=5\n",
        "input_dim=15\n",
        "input_shape=(time_steps,input_dim)\n",
        "x=Input(shape=input_shape,name='Input')\n",
        "y=SimpleRNN(units=units,activation='sigmoid',name='SimpleRNN_1')(x)\n",
        "model=Model(inputs=[x],outputs=[y])\n",
        "SVG(model_to_dot(model,show_shapes=1>0,dpi=None).create(prog='dot',format='svg'))"
      ]
    },
    {
      "cell_type": "code",
      "source": [
        "y=SimpleRNN(units=units,activation='sigmoid',name='SimpleRNN_2',return_sequences=1>0)(x)\n",
        "model=Model(inputs=[x],outputs=[y])\n",
        "SVG(model_to_dot(model,show_shapes=1>0,dpi=None).create(prog='dot',format='svg'))"
      ],
      "metadata": {
        "colab": {
          "base_uri": "https://localhost:8080/",
          "height": 205
        },
        "id": "NZwcznjVaO5x",
        "outputId": "579bf434-7687-4889-ea62-4dcb519e9d83"
      },
      "execution_count": 2,
      "outputs": [
        {
          "output_type": "execute_result",
          "data": {
            "text/plain": [
              "<IPython.core.display.SVG object>"
            ],
            "image/svg+xml": "<svg xmlns=\"http://www.w3.org/2000/svg\" xmlns:xlink=\"http://www.w3.org/1999/xlink\" width=\"329pt\" height=\"138pt\" viewBox=\"0.00 0.00 329.00 138.00\">\n<g id=\"graph0\" class=\"graph\" transform=\"scale(1 1) rotate(0) translate(4 134)\">\n<title>G</title>\n<polygon fill=\"#ffffff\" stroke=\"transparent\" points=\"-4,4 -4,-134 325,-134 325,4 -4,4\"/>\n<!-- dpi -->\n<g id=\"node1\" class=\"node\">\n<title>dpi</title>\n<ellipse fill=\"none\" stroke=\"#000000\" cx=\"27\" cy=\"-106.5\" rx=\"27\" ry=\"18\"/>\n<text text-anchor=\"middle\" x=\"27\" y=\"-102.8\" font-family=\"Times,serif\" font-size=\"14.00\" fill=\"#000000\">dpi</text>\n</g>\n<!-- 140633778476080 -->\n<g id=\"node2\" class=\"node\">\n<title>140633778476080</title>\n<polygon fill=\"none\" stroke=\"#000000\" points=\"72,-83.5 72,-129.5 314,-129.5 314,-83.5 72,-83.5\"/>\n<text text-anchor=\"middle\" x=\"112\" y=\"-114.3\" font-family=\"Times,serif\" font-size=\"14.00\" fill=\"#000000\">Input</text>\n<polyline fill=\"none\" stroke=\"#000000\" points=\"72,-106.5 152,-106.5 \"/>\n<text text-anchor=\"middle\" x=\"112\" y=\"-91.3\" font-family=\"Times,serif\" font-size=\"14.00\" fill=\"#000000\">InputLayer</text>\n<polyline fill=\"none\" stroke=\"#000000\" points=\"152,-83.5 152,-129.5 \"/>\n<text text-anchor=\"middle\" x=\"181\" y=\"-114.3\" font-family=\"Times,serif\" font-size=\"14.00\" fill=\"#000000\">input:</text>\n<polyline fill=\"none\" stroke=\"#000000\" points=\"152,-106.5 210,-106.5 \"/>\n<text text-anchor=\"middle\" x=\"181\" y=\"-91.3\" font-family=\"Times,serif\" font-size=\"14.00\" fill=\"#000000\">output:</text>\n<polyline fill=\"none\" stroke=\"#000000\" points=\"210,-83.5 210,-129.5 \"/>\n<text text-anchor=\"middle\" x=\"262\" y=\"-114.3\" font-family=\"Times,serif\" font-size=\"14.00\" fill=\"#000000\">[(None, 5, 15)]</text>\n<polyline fill=\"none\" stroke=\"#000000\" points=\"210,-106.5 314,-106.5 \"/>\n<text text-anchor=\"middle\" x=\"262\" y=\"-91.3\" font-family=\"Times,serif\" font-size=\"14.00\" fill=\"#000000\">[(None, 5, 15)]</text>\n</g>\n<!-- 140632084482704 -->\n<g id=\"node3\" class=\"node\">\n<title>140632084482704</title>\n<polygon fill=\"none\" stroke=\"#000000\" points=\"65,-.5 65,-46.5 321,-46.5 321,-.5 65,-.5\"/>\n<text text-anchor=\"middle\" x=\"116.5\" y=\"-31.3\" font-family=\"Times,serif\" font-size=\"14.00\" fill=\"#000000\">SimpleRNN_2</text>\n<polyline fill=\"none\" stroke=\"#000000\" points=\"65,-23.5 168,-23.5 \"/>\n<text text-anchor=\"middle\" x=\"116.5\" y=\"-8.3\" font-family=\"Times,serif\" font-size=\"14.00\" fill=\"#000000\">SimpleRNN</text>\n<polyline fill=\"none\" stroke=\"#000000\" points=\"168,-.5 168,-46.5 \"/>\n<text text-anchor=\"middle\" x=\"197\" y=\"-31.3\" font-family=\"Times,serif\" font-size=\"14.00\" fill=\"#000000\">input:</text>\n<polyline fill=\"none\" stroke=\"#000000\" points=\"168,-23.5 226,-23.5 \"/>\n<text text-anchor=\"middle\" x=\"197\" y=\"-8.3\" font-family=\"Times,serif\" font-size=\"14.00\" fill=\"#000000\">output:</text>\n<polyline fill=\"none\" stroke=\"#000000\" points=\"226,-.5 226,-46.5 \"/>\n<text text-anchor=\"middle\" x=\"273.5\" y=\"-31.3\" font-family=\"Times,serif\" font-size=\"14.00\" fill=\"#000000\">(None, 5, 15)</text>\n<polyline fill=\"none\" stroke=\"#000000\" points=\"226,-23.5 321,-23.5 \"/>\n<text text-anchor=\"middle\" x=\"273.5\" y=\"-8.3\" font-family=\"Times,serif\" font-size=\"14.00\" fill=\"#000000\">(None, 5, 10)</text>\n</g>\n<!-- 140633778476080&#45;&gt;140632084482704 -->\n<g id=\"edge1\" class=\"edge\">\n<title>140633778476080-&gt;140632084482704</title>\n<path fill=\"none\" stroke=\"#000000\" d=\"M193,-83.3799C193,-75.1745 193,-65.7679 193,-56.8786\"/>\n<polygon fill=\"#000000\" stroke=\"#000000\" points=\"196.5001,-56.784 193,-46.784 189.5001,-56.784 196.5001,-56.784\"/>\n</g>\n</g>\n</svg>"
          },
          "metadata": {},
          "execution_count": 2
        }
      ]
    },
    {
      "cell_type": "code",
      "source": [
        "y,state=SimpleRNN(units=units,activation='sigmoid',name='SimpleRNN_3',return_state=1>0)(x)\n",
        "model=Model(inputs=[x],outputs=[y])\n",
        "SVG(model_to_dot(model,show_shapes=1>0,dpi=None).create(prog='dot',format='svg'))"
      ],
      "metadata": {
        "colab": {
          "base_uri": "https://localhost:8080/",
          "height": 205
        },
        "id": "F2cJn_QWc7d6",
        "outputId": "a7526443-c5e2-41fd-cd6f-20e9760f55a0"
      },
      "execution_count": 4,
      "outputs": [
        {
          "output_type": "execute_result",
          "data": {
            "text/plain": [
              "<IPython.core.display.SVG object>"
            ],
            "image/svg+xml": "<svg xmlns=\"http://www.w3.org/2000/svg\" xmlns:xlink=\"http://www.w3.org/1999/xlink\" width=\"361pt\" height=\"138pt\" viewBox=\"0.00 0.00 361.00 138.00\">\n<g id=\"graph0\" class=\"graph\" transform=\"scale(1 1) rotate(0) translate(4 134)\">\n<title>G</title>\n<polygon fill=\"#ffffff\" stroke=\"transparent\" points=\"-4,4 -4,-134 357,-134 357,4 -4,4\"/>\n<!-- dpi -->\n<g id=\"node1\" class=\"node\">\n<title>dpi</title>\n<ellipse fill=\"none\" stroke=\"#000000\" cx=\"27\" cy=\"-106.5\" rx=\"27\" ry=\"18\"/>\n<text text-anchor=\"middle\" x=\"27\" y=\"-102.8\" font-family=\"Times,serif\" font-size=\"14.00\" fill=\"#000000\">dpi</text>\n</g>\n<!-- 140633778476080 -->\n<g id=\"node2\" class=\"node\">\n<title>140633778476080</title>\n<polygon fill=\"none\" stroke=\"#000000\" points=\"72,-83.5 72,-129.5 314,-129.5 314,-83.5 72,-83.5\"/>\n<text text-anchor=\"middle\" x=\"112\" y=\"-114.3\" font-family=\"Times,serif\" font-size=\"14.00\" fill=\"#000000\">Input</text>\n<polyline fill=\"none\" stroke=\"#000000\" points=\"72,-106.5 152,-106.5 \"/>\n<text text-anchor=\"middle\" x=\"112\" y=\"-91.3\" font-family=\"Times,serif\" font-size=\"14.00\" fill=\"#000000\">InputLayer</text>\n<polyline fill=\"none\" stroke=\"#000000\" points=\"152,-83.5 152,-129.5 \"/>\n<text text-anchor=\"middle\" x=\"181\" y=\"-114.3\" font-family=\"Times,serif\" font-size=\"14.00\" fill=\"#000000\">input:</text>\n<polyline fill=\"none\" stroke=\"#000000\" points=\"152,-106.5 210,-106.5 \"/>\n<text text-anchor=\"middle\" x=\"181\" y=\"-91.3\" font-family=\"Times,serif\" font-size=\"14.00\" fill=\"#000000\">output:</text>\n<polyline fill=\"none\" stroke=\"#000000\" points=\"210,-83.5 210,-129.5 \"/>\n<text text-anchor=\"middle\" x=\"262\" y=\"-114.3\" font-family=\"Times,serif\" font-size=\"14.00\" fill=\"#000000\">[(None, 5, 15)]</text>\n<polyline fill=\"none\" stroke=\"#000000\" points=\"210,-106.5 314,-106.5 \"/>\n<text text-anchor=\"middle\" x=\"262\" y=\"-91.3\" font-family=\"Times,serif\" font-size=\"14.00\" fill=\"#000000\">[(None, 5, 15)]</text>\n</g>\n<!-- 140632192793040 -->\n<g id=\"node3\" class=\"node\">\n<title>140632192793040</title>\n<polygon fill=\"none\" stroke=\"#000000\" points=\"33,-.5 33,-46.5 353,-46.5 353,-.5 33,-.5\"/>\n<text text-anchor=\"middle\" x=\"84.5\" y=\"-31.3\" font-family=\"Times,serif\" font-size=\"14.00\" fill=\"#000000\">SimpleRNN_3</text>\n<polyline fill=\"none\" stroke=\"#000000\" points=\"33,-23.5 136,-23.5 \"/>\n<text text-anchor=\"middle\" x=\"84.5\" y=\"-8.3\" font-family=\"Times,serif\" font-size=\"14.00\" fill=\"#000000\">SimpleRNN</text>\n<polyline fill=\"none\" stroke=\"#000000\" points=\"136,-.5 136,-46.5 \"/>\n<text text-anchor=\"middle\" x=\"165\" y=\"-31.3\" font-family=\"Times,serif\" font-size=\"14.00\" fill=\"#000000\">input:</text>\n<polyline fill=\"none\" stroke=\"#000000\" points=\"136,-23.5 194,-23.5 \"/>\n<text text-anchor=\"middle\" x=\"165\" y=\"-8.3\" font-family=\"Times,serif\" font-size=\"14.00\" fill=\"#000000\">output:</text>\n<polyline fill=\"none\" stroke=\"#000000\" points=\"194,-.5 194,-46.5 \"/>\n<text text-anchor=\"middle\" x=\"273.5\" y=\"-31.3\" font-family=\"Times,serif\" font-size=\"14.00\" fill=\"#000000\">(None, 5, 15)</text>\n<polyline fill=\"none\" stroke=\"#000000\" points=\"194,-23.5 353,-23.5 \"/>\n<text text-anchor=\"middle\" x=\"273.5\" y=\"-8.3\" font-family=\"Times,serif\" font-size=\"14.00\" fill=\"#000000\">[(None, 10), (None, 10)]</text>\n</g>\n<!-- 140633778476080&#45;&gt;140632192793040 -->\n<g id=\"edge1\" class=\"edge\">\n<title>140633778476080-&gt;140632192793040</title>\n<path fill=\"none\" stroke=\"#000000\" d=\"M193,-83.3799C193,-75.1745 193,-65.7679 193,-56.8786\"/>\n<polygon fill=\"#000000\" stroke=\"#000000\" points=\"196.5001,-56.784 193,-46.784 189.5001,-56.784 196.5001,-56.784\"/>\n</g>\n</g>\n</svg>"
          },
          "metadata": {},
          "execution_count": 4
        }
      ]
    },
    {
      "cell_type": "code",
      "source": [],
      "metadata": {
        "id": "fh-ofmFRhOVw"
      },
      "execution_count": null,
      "outputs": []
    }
  ]
}