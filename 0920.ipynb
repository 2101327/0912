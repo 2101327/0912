{
  "nbformat": 4,
  "nbformat_minor": 0,
  "metadata": {
    "colab": {
      "provenance": [],
      "collapsed_sections": [],
      "authorship_tag": "ABX9TyMl0RKC+hZ1eUsZ1ql+BRHC",
      "include_colab_link": true
    },
    "kernelspec": {
      "name": "python3",
      "display_name": "Python 3"
    },
    "language_info": {
      "name": "python"
    }
  },
  "cells": [
    {
      "cell_type": "markdown",
      "metadata": {
        "id": "view-in-github",
        "colab_type": "text"
      },
      "source": [
        "<a href=\"https://colab.research.google.com/github/2101327/0912/blob/main/0920.ipynb\" target=\"_parent\"><img src=\"https://colab.research.google.com/assets/colab-badge.svg\" alt=\"Open In Colab\"/></a>"
      ]
    },
    {
      "cell_type": "markdown",
      "source": [
        "##関数"
      ],
      "metadata": {
        "id": "qko1sh4mbkD-"
      }
    },
    {
      "cell_type": "code",
      "source": [
        "def hello():\n",
        "  print('hello')\n",
        "print('test')\n",
        "hello()"
      ],
      "metadata": {
        "colab": {
          "base_uri": "https://localhost:8080/"
        },
        "id": "eGdCakVxbe_s",
        "outputId": "29a2eb4d-ea51-4f61-d576-8659dba67a79"
      },
      "execution_count": 2,
      "outputs": [
        {
          "output_type": "stream",
          "name": "stdout",
          "text": [
            "test\n",
            "hello\n"
          ]
        }
      ]
    },
    {
      "cell_type": "markdown",
      "source": [
        "#引数あり関数"
      ],
      "metadata": {
        "id": "wtao3oqfe1BW"
      }
    },
    {
      "cell_type": "code",
      "source": [
        "def hello(name):\n",
        "  print('hello',name,'!')\n",
        "hello('python')\n"
      ],
      "metadata": {
        "colab": {
          "base_uri": "https://localhost:8080/"
        },
        "id": "sVTOwhoLe5Hg",
        "outputId": "c850f257-694d-4d37-d9f2-fd1c16ab24f5"
      },
      "execution_count": 3,
      "outputs": [
        {
          "output_type": "stream",
          "name": "stdout",
          "text": [
            "hello python !\n"
          ]
        }
      ]
    },
    {
      "cell_type": "markdown",
      "source": [
        "##戻り値"
      ],
      "metadata": {
        "id": "nrHZy0WgiUMY"
      }
    },
    {
      "cell_type": "code",
      "source": [
        "def helloBack(name,msg):\n",
        "  return name+'さん'+msg\n",
        "helloBack('佐藤','こんにちは')"
      ],
      "metadata": {
        "colab": {
          "base_uri": "https://localhost:8080/",
          "height": 36
        },
        "id": "DwhTggBniW_5",
        "outputId": "6113fd69-48f7-453d-fa95-bd93d693149a"
      },
      "execution_count": 4,
      "outputs": [
        {
          "output_type": "execute_result",
          "data": {
            "text/plain": [
              "'佐藤さんこんにちは'"
            ],
            "application/vnd.google.colaboratory.intrinsic+json": {
              "type": "string"
            }
          },
          "metadata": {},
          "execution_count": 4
        }
      ]
    },
    {
      "cell_type": "markdown",
      "source": [
        "#引数複数"
      ],
      "metadata": {
        "id": "rJ3AvoeRkkau"
      }
    },
    {
      "cell_type": "code",
      "source": [
        "def calc(x,y):\n",
        "  return x+y,x-y,x*y\n",
        "calc(56,92)"
      ],
      "metadata": {
        "colab": {
          "base_uri": "https://localhost:8080/"
        },
        "id": "6dr3nOBjkoL6",
        "outputId": "b807e202-7529-430b-b629-5d57b115e1a9"
      },
      "execution_count": 5,
      "outputs": [
        {
          "output_type": "execute_result",
          "data": {
            "text/plain": [
              "(148, -36, 5152)"
            ]
          },
          "metadata": {},
          "execution_count": 5
        }
      ]
    },
    {
      "cell_type": "markdown",
      "source": [
        "#if"
      ],
      "metadata": {
        "id": "1zQcCD4zlbkl"
      }
    },
    {
      "cell_type": "code",
      "source": [
        "def over(num,th):\n",
        "  print(num>th)\n",
        "over(4,2)"
      ],
      "metadata": {
        "colab": {
          "base_uri": "https://localhost:8080/"
        },
        "id": "KDnF1Mkak5e-",
        "outputId": "aa0518e3-17df-478b-f285-d88bef525aaa"
      },
      "execution_count": 6,
      "outputs": [
        {
          "output_type": "stream",
          "name": "stdout",
          "text": [
            "True\n"
          ]
        }
      ]
    },
    {
      "cell_type": "code",
      "source": [
        "def include(list,keyword):\n",
        "  uniq=set(list)\n",
        "  print(keyword in uniq)\n",
        "list=[n for n in range(1,11)]\n",
        "keyword=3\n",
        "include(list,keyword)\n",
        "include(list,100)"
      ],
      "metadata": {
        "colab": {
          "base_uri": "https://localhost:8080/"
        },
        "id": "Ng0oIWX4mrE4",
        "outputId": "df0e0342-a8b7-4c7b-9228-2d98c1a4bceb"
      },
      "execution_count": 8,
      "outputs": [
        {
          "output_type": "stream",
          "name": "stdout",
          "text": [
            "True\n",
            "False\n"
          ]
        }
      ]
    },
    {
      "cell_type": "code",
      "source": [
        "def count(max):\n",
        "  num=1\n",
        "  while(num<=max):\n",
        "    print(num)\n",
        "    num+=1\n",
        "count(10)"
      ],
      "metadata": {
        "colab": {
          "base_uri": "https://localhost:8080/"
        },
        "id": "7b0exTUgus28",
        "outputId": "b6774815-efd1-46c4-fc06-fb58bfed0d62"
      },
      "execution_count": 12,
      "outputs": [
        {
          "output_type": "stream",
          "name": "stdout",
          "text": [
            "1\n",
            "2\n",
            "3\n",
            "4\n",
            "5\n",
            "6\n",
            "7\n",
            "8\n",
            "9\n",
            "10\n"
          ]
        }
      ]
    },
    {
      "cell_type": "code",
      "source": [
        "def every(array):\n",
        "  for x in array:\n",
        "    print(x)\n",
        "list=[1,2,3]\n",
        "tuple=(4,5,6)\n",
        "dict={'A':7,'B':8,'C':9}\n",
        "every(list)\n",
        "every(tuple)\n",
        "every(dict)"
      ],
      "metadata": {
        "colab": {
          "base_uri": "https://localhost:8080/"
        },
        "id": "0TzuRCtnxGIg",
        "outputId": "90c1d4e5-dcb3-4d75-9e51-f9189419de0c"
      },
      "execution_count": 13,
      "outputs": [
        {
          "output_type": "stream",
          "name": "stdout",
          "text": [
            "1\n",
            "2\n",
            "3\n",
            "4\n",
            "5\n",
            "6\n",
            "A\n",
            "B\n",
            "C\n"
          ]
        }
      ]
    },
    {
      "cell_type": "code",
      "source": [],
      "metadata": {
        "id": "3HE7O9zC2kL-"
      },
      "execution_count": null,
      "outputs": []
    }
  ]
}