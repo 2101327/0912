{
  "nbformat": 4,
  "nbformat_minor": 0,
  "metadata": {
    "colab": {
      "provenance": [],
      "collapsed_sections": [],
      "authorship_tag": "ABX9TyNgGa2JZY9QvD8vrNxsTacB",
      "include_colab_link": true
    },
    "kernelspec": {
      "name": "python3",
      "display_name": "Python 3"
    },
    "language_info": {
      "name": "python"
    }
  },
  "cells": [
    {
      "cell_type": "markdown",
      "metadata": {
        "id": "view-in-github",
        "colab_type": "text"
      },
      "source": [
        "<a href=\"https://colab.research.google.com/github/2101327/0912/blob/main/NumPyReplay2022.ipynb\" target=\"_parent\"><img src=\"https://colab.research.google.com/assets/colab-badge.svg\" alt=\"Open In Colab\"/></a>"
      ]
    },
    {
      "cell_type": "code",
      "execution_count": 15,
      "metadata": {
        "colab": {
          "base_uri": "https://localhost:8080/"
        },
        "id": "XX8zrC3Ggr4q",
        "outputId": "aa8c8c12-8805-4ebe-d3d2-db81f7c60c5a"
      },
      "outputs": [
        {
          "output_type": "stream",
          "name": "stdout",
          "text": [
            "[1. 2. 3. 4. 5.]\n",
            "[1 2 3]\n",
            "<class 'numpy.ndarray'>\n"
          ]
        },
        {
          "output_type": "execute_result",
          "data": {
            "text/plain": [
              "array([[ 1,  2,  3,  4,  5],\n",
              "       [10, 20, 30, 40, 50]])"
            ]
          },
          "metadata": {},
          "execution_count": 15
        }
      ],
      "source": [
        "import numpy as np\n",
        "x=np.array([1.0*i for i in range(1,6)])\n",
        "print(x)\n",
        "x=np.array([i for i in range(1,4)])\n",
        "print(x)\n",
        "print(type(x))\n",
        "my_list1=[i for i in range(1,6)]\n",
        "my_array1=np.array(my_list1)\n",
        "my_list2=10*my_array1\n",
        "my_lists=[my_list1,my_list2]\n",
        "my_lists\n",
        "my_array2=np.array(my_lists)\n",
        "my_array2"
      ]
    },
    {
      "cell_type": "code",
      "source": [
        "a=np.array([i for i in range(1,5)])\n",
        "a.shape\n",
        "b=np.array([[1,2],[3,4]])\n",
        "b.shape"
      ],
      "metadata": {
        "colab": {
          "base_uri": "https://localhost:8080/"
        },
        "id": "09Qrcn9Sipnz",
        "outputId": "832c2318-c954-4ce1-d5d7-58ee3041cb55"
      },
      "execution_count": 16,
      "outputs": [
        {
          "output_type": "execute_result",
          "data": {
            "text/plain": [
              "(2, 2)"
            ]
          },
          "metadata": {},
          "execution_count": 16
        }
      ]
    },
    {
      "cell_type": "code",
      "source": [
        "x=np.arange(10)\n",
        "print(x)\n",
        "x=np.arange(1,10).reshape(3,3)\n",
        "y=x\n",
        "print(x)\n",
        "print(y)\n",
        "print(x+y)\n",
        "print(x-y)\n",
        "print(x*y)"
      ],
      "metadata": {
        "colab": {
          "base_uri": "https://localhost:8080/"
        },
        "id": "D4dF3GERjEqB",
        "outputId": "9bc7fe5f-e660-484f-c306-870a7c16eff9"
      },
      "execution_count": 17,
      "outputs": [
        {
          "output_type": "stream",
          "name": "stdout",
          "text": [
            "[0 1 2 3 4 5 6 7 8 9]\n",
            "[[1 2 3]\n",
            " [4 5 6]\n",
            " [7 8 9]]\n",
            "[[1 2 3]\n",
            " [4 5 6]\n",
            " [7 8 9]]\n",
            "[[ 2  4  6]\n",
            " [ 8 10 12]\n",
            " [14 16 18]]\n",
            "[[0 0 0]\n",
            " [0 0 0]\n",
            " [0 0 0]]\n",
            "[[ 1  4  9]\n",
            " [16 25 36]\n",
            " [49 64 81]]\n"
          ]
        }
      ]
    },
    {
      "cell_type": "code",
      "source": [
        "sample_array=np.arange(10)\n",
        "print(sample_array)\n",
        "sample_array2=sample_array.reshape(2,5)\n",
        "print(sample_array2)\n",
        "sample_array3=np.array([[1,2,3],[4,5,6]])\n",
        "sample_array4=np.array([[7,8,9],[10,11,12]])\n",
        "print(np.concatenate([sample_array3,sample_array4],axis=1))\n",
        "print(np.hstack((sample_array3,sample_array4)))"
      ],
      "metadata": {
        "colab": {
          "base_uri": "https://localhost:8080/"
        },
        "id": "t8PRLKjcjYfw",
        "outputId": "f04019e3-af2c-4829-aaf3-25883391fe2c"
      },
      "execution_count": 18,
      "outputs": [
        {
          "output_type": "stream",
          "name": "stdout",
          "text": [
            "[0 1 2 3 4 5 6 7 8 9]\n",
            "[[0 1 2 3 4]\n",
            " [5 6 7 8 9]]\n",
            "[[ 1  2  3  7  8  9]\n",
            " [ 4  5  6 10 11 12]]\n",
            "[[ 1  2  3  7  8  9]\n",
            " [ 4  5  6 10 11 12]]\n"
          ]
        }
      ]
    },
    {
      "cell_type": "code",
      "source": [
        "print(np.concatenate([sample_array3,sample_array4],axis=0))\n",
        "print(np.vstack((sample_array3,sample_array4)))"
      ],
      "metadata": {
        "colab": {
          "base_uri": "https://localhost:8080/"
        },
        "id": "44XUk22SkU1X",
        "outputId": "8757fed8-b52b-4911-8a0b-1e911d811ee7"
      },
      "execution_count": 19,
      "outputs": [
        {
          "output_type": "stream",
          "name": "stdout",
          "text": [
            "[[ 1  2  3]\n",
            " [ 4  5  6]\n",
            " [ 7  8  9]\n",
            " [10 11 12]]\n",
            "[[ 1  2  3]\n",
            " [ 4  5  6]\n",
            " [ 7  8  9]\n",
            " [10 11 12]]\n"
          ]
        }
      ]
    },
    {
      "cell_type": "code",
      "source": [
        "sample_array=np.arange(10)\n",
        "print(sample_array)\n",
        "print(sample_array+5)"
      ],
      "metadata": {
        "colab": {
          "base_uri": "https://localhost:8080/"
        },
        "id": "-Re7VzyGkzOe",
        "outputId": "3c5d7df7-1f62-4b12-fb4a-8f312dedbc6e"
      },
      "execution_count": 20,
      "outputs": [
        {
          "output_type": "stream",
          "name": "stdout",
          "text": [
            "[0 1 2 3 4 5 6 7 8 9]\n",
            "[ 5  6  7  8  9 10 11 12 13 14]\n"
          ]
        }
      ]
    },
    {
      "cell_type": "code",
      "source": [
        "n1=np.array([i for i  in range(1,6)])\n",
        "print(n1)\n",
        "np.ndim(n1)\n",
        "n1.shape\n",
        "n2=np.array([[1,2],[3,4],[5,6]])\n",
        "print(n2)\n",
        "print(n2.ndim)"
      ],
      "metadata": {
        "colab": {
          "base_uri": "https://localhost:8080/"
        },
        "id": "LnFMgjSGk-Us",
        "outputId": "7604afa6-8497-436e-d788-59ed23bb4efb"
      },
      "execution_count": 21,
      "outputs": [
        {
          "output_type": "stream",
          "name": "stdout",
          "text": [
            "[1 2 3 4 5]\n",
            "[[1 2]\n",
            " [3 4]\n",
            " [5 6]]\n",
            "2\n"
          ]
        }
      ]
    },
    {
      "cell_type": "code",
      "source": [
        "my_li1=[-1,4]\n",
        "my_li2=[3,2]\n",
        "my_li3=[2,5]\n",
        "my_li4=[0,1]\n",
        "my_lists=[my_li1,my_li2,my_li3,my_li4]\n",
        "my_array3=np.array(my_lists)\n",
        "my_array3"
      ],
      "metadata": {
        "colab": {
          "base_uri": "https://localhost:8080/"
        },
        "id": "5NRZD7IVllKU",
        "outputId": "d90b2761-dc3e-42e5-9334-ff5b38b91d16"
      },
      "execution_count": 22,
      "outputs": [
        {
          "output_type": "execute_result",
          "data": {
            "text/plain": [
              "array([[-1,  4],\n",
              "       [ 3,  2],\n",
              "       [ 2,  5],\n",
              "       [ 0,  1]])"
            ]
          },
          "metadata": {},
          "execution_count": 22
        }
      ]
    },
    {
      "cell_type": "code",
      "source": [],
      "metadata": {
        "id": "pmznAr66mMMF"
      },
      "execution_count": 22,
      "outputs": []
    }
  ]
}